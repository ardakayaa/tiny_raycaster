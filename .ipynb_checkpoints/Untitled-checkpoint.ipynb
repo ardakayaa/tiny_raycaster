{
 "cells": [
  {
   "cell_type": "code",
   "execution_count": null,
   "metadata": {},
   "outputs": [],
   "source": [
    "#define _USE_MATH_DEFINES\n",
    "#include <cmath>\n",
    "#include <iostream>\n",
    "#include <fstream>\n",
    "#include <vector>\n",
    "#include <cstdint>\n",
    "#include <cassert>"
   ]
  },
  {
   "cell_type": "code",
   "execution_count": null,
   "metadata": {},
   "outputs": [],
   "source": [
    "uint32_t pack_color(const uint8_t r, const uint8_t g, const uint8_t b, const uint8_t a=255) \n",
    "{\n",
    "    return (a<<24) + (b<<16) + (g<<8) + r;\n",
    "}\n",
    "\n"
   ]
  },
  {
   "cell_type": "code",
   "execution_count": null,
   "metadata": {},
   "outputs": [],
   "source": [
    "void unpack_color(const uint32_t &color, uint8_t &r, uint8_t &g, uint8_t &b, uint8_t &a) \n",
    "{\n",
    "    r = (color >>  0) & 255;\n",
    "    g = (color >>  8) & 255;\n",
    "    b = (color >> 16) & 255;\n",
    "    a = (color >> 24) & 255;\n",
    "}\n",
    "\n"
   ]
  },
  {
   "cell_type": "code",
   "execution_count": 4,
   "metadata": {},
   "outputs": [],
   "source": [
    "void drop_ppm_image(const std::string filename, const std::vector<uint32_t> &image, const size_t w, const size_t h) \n",
    "{\n",
    "    assert(image.size() == w*h);\n",
    "    std::ofstream ofs(filename, std::ios::binary);\n",
    "    ofs << \"P6\\n\" << w << \" \" << h << \"\\n255\\n\";\n",
    "    for (size_t i = 0; i < h*w; ++i) \n",
    "    {\n",
    "        uint8_t r, g, b, a;\n",
    "        unpack_color(image[i], r, g, b, a);\n",
    "        ofs << static_cast<char>(r) << static_cast<char>(g) << static_cast<char>(b);\n",
    "    }\n",
    "    ofs.close();\n",
    "}"
   ]
  },
  {
   "cell_type": "code",
   "execution_count": 5,
   "metadata": {},
   "outputs": [],
   "source": [
    "const size_t win_w = 512; // image width\n",
    "    const size_t win_h = 512; // image height\n",
    "    std::vector<uint32_t> framebuffer(win_w*win_h, 255); // the image itself, initialized to white\n",
    "\n",
    "    for (size_t j = 0; j<win_h; j++) { // fill the screen with color gradients\n",
    "        for (size_t i = 0; i<win_w; i++) {\n",
    "            uint8_t r = 255*j/float(win_h); // varies between 0 and 255 as j sweeps the vertical\n",
    "            uint8_t g = 255*i/float(win_w); // varies between 0 and 255 as i sweeps the horizontal\n",
    "            uint8_t b = (255-((255*j)/float(win_h)));\n",
    "            framebuffer[i+j*win_w] = pack_color(r, g, b);\n",
    "        }\n",
    "    }"
   ]
  },
  {
   "cell_type": "code",
   "execution_count": 6,
   "metadata": {},
   "outputs": [],
   "source": [
    "drop_ppm_image(\"./out.ppm\", framebuffer, win_w, win_h);"
   ]
  },
  {
   "cell_type": "code",
   "execution_count": null,
   "metadata": {},
   "outputs": [],
   "source": []
  }
 ],
 "metadata": {
  "kernelspec": {
   "display_name": "C++11",
   "language": "C++11",
   "name": "xcpp11"
  },
  "language_info": {
   "codemirror_mode": "text/x-c++src",
   "file_extension": ".cpp",
   "mimetype": "text/x-c++src",
   "name": "c++",
   "version": "-std=c++11"
  }
 },
 "nbformat": 4,
 "nbformat_minor": 2
}
